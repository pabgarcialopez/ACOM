{
  "nbformat": 4,
  "nbformat_minor": 0,
  "metadata": {
    "colab": {
      "provenance": [],
      "include_colab_link": true
    },
    "kernelspec": {
      "name": "python3",
      "display_name": "Python 3"
    },
    "language_info": {
      "name": "python"
    }
  },
  "cells": [
    {
      "cell_type": "markdown",
      "metadata": {
        "id": "view-in-github",
        "colab_type": "text"
      },
      "source": [
        "<a href=\"https://colab.research.google.com/github/pabgarcialopez/ACOM/blob/main/actividad2.ipynb\" target=\"_parent\"><img src=\"https://colab.research.google.com/assets/colab-badge.svg\" alt=\"Open In Colab\"/></a>"
      ]
    },
    {
      "cell_type": "markdown",
      "source": [
        "# Actividad 2\n",
        "\n",
        "Se tiene un tablero $n×m$ con un número entero en cada casilla. Una ficha se encuentra inicialmente en la casilla de arriba a la izquierda del tablero. En cada movimiento se puede desplazar a esta ficha una casilla hacia abajo o una hacia la derecha, o bien hacer un salto de \"caballo\" de una casilla hacia abajo y dos hacia la derecha. No se permite hacer tres saltos de caballo consecutivos. El objetivo es llegar a la casilla de abajo a la derecha de modo que la suma de los números de las casillas visitadas sea mı́nimo. Implementar la función `min_suma_casillas(n,m,a)` que tome una matriz $a$ (una lista de $n$ listas de $m$ enteros) y que devuelva la suma mı́nima de los números visitados en el camino óptimo. Tener en cuenta que tanto la casilla inicial como la final se consideran visitadas en el camino, pero no las casillas intermedias de los saltos. Se espera que la función pueda manejar tableros con $1 \\leq n$, $m \\leq 1000$.\n",
        "\n",
        "---\n",
        "\n",
        "# Solución\n",
        "\n",
        "Usaremos la técnica de programación dinámica. Sea\n",
        "\n",
        "$$min\\_coste(i, j, k)$$\n",
        "\n",
        "el coste mínimo necesario para llegar a la casilla $(i, j)$ del tablero $a$, usando $k$ saltos de caballo, con:\n",
        "\n",
        "$$0\\leq i < n$$\n",
        "$$0\\leq j < m$$\n",
        "$$0\\leq k < 3,$$\n",
        "\n",
        "y donde:\n",
        "\n",
        "*   $n$ es el número de filas de $a$.\n",
        "*   $m$ es el número de columnas de $a$.\n",
        "\n",
        "Entonces, podemos deducir que:\n",
        "\n",
        "*   $min\\_coste(0, 0, 0) = a[0][0]$\n",
        "*   Para $1 \\leq i < n$, $min\\_coste(i, 0, 0) = min\\_coste(i-1, 0, 0) + a[i][0]$\n",
        "*   Para $1 \\leq j < m$, $min\\_coste(0, j, 0) = min\\_coste(0, j-1, 0) + a[0][j]$\n",
        "*   Para $k=1, 2$, $min\\_coste(i, j, k) = ∞$ (de manera que en el futuro, al hacer el mínimo, este valor será despreciado).\n",
        "\n",
        "Y hechas estas inicializaciones, tendremos en general que:\n",
        "\n",
        "$$min\\_coste(i, j, 0) = \\min\\limits_{k=0,1,2} \\{ min\\_coste(i-1, j, k), min\\_coste(i, j - 1, k) \\}$$\n",
        "\n",
        "Y en caso de que en el paso anterior se realizase un salto de caballo ($j - 2 \\leq 0$):\n",
        "\n",
        "$$min\\_coste(i, j, 1) =  min\\_coste(i-1, j-2, 0) + a[i][j]$$\n",
        "\n",
        "$$min\\_coste(i, j, 2) =  min\\_coste(i-1, j-2, 1) + a[i][j]$$\n",
        "\n",
        "Con esta definición recursiva, podemos implementar una versión iterativa, que se encuentra en el orden de $𝒪(n*m*3) = 𝒪(n*m)$."
      ],
      "metadata": {
        "id": "Leu2PkntD_pG"
      }
    },
    {
      "cell_type": "code",
      "execution_count": null,
      "metadata": {
        "id": "vOQXH7_BL89C"
      },
      "outputs": [],
      "source": [
        "# Actividad 2:\n",
        "# - Pablo Navarro Cebrián\n",
        "# - Alba Bautista Nuñez\n",
        "# - Pablo García López\n",
        "\n",
        "# Usaremos la técnica de programación dinámica.\n",
        "# Sea min_coste(i, j, k) el coste mínimo necesario para llegar a la casilla (i, j) del tablero `a`, usando `k` saltos de caballo, con:\n",
        "# 0 <= i < n\n",
        "# 0 <= j < m\n",
        "# 0 <= k < 3\n",
        "# donde:\n",
        "# - `n` es el número de filas de `a`.\n",
        "# - `m` es el número de columnas de `a`.\n",
        "\n",
        "# Entonces, podemos deducir que:\n",
        "\n",
        "# min_coste(0, 0, 0) = a[0][0]\n",
        "# Para 1 <= i < n, min_coste(i, 0, 0) = min_coste(i-1, 0, 0) + a[i][0]\n",
        "# Para 1 <= j < m, min_coste(0, j, 0) = min_coste(0, j-1, 0) + a[0][j]\n",
        "# Para k = 1, 2, min_coste(i, j, k) = float('inf') (de manera que en el futuro, al hacer el mínimo, este valor será despreciado).\n",
        "\n",
        "# Hechas estas inicializaciones, tendremos en general que:\n",
        "\n",
        "# min_coste(i, j, 0) = min(min_coste(i-1, j, k), min_coste(i, j-1, k)) para k = 0, 1, 2\n",
        "\n",
        "# Y en caso de que en el paso anterior se realizase un salto de caballo (j - 2 >= 0):\n",
        "\n",
        "# min_coste(i, j, 1) = min_coste(i-1, j-2, 0) + a[i][j]\n",
        "# min_coste(i, j, 2) = min_coste(i-1, j-2, 1) + a[i][j]\n",
        "\n",
        "# Con esta definición recursiva, podemos implementar una versión iterativa, que se encuentra en el orden de O(n*m*3) = O(n*m).\n",
        "\n",
        "\n",
        "def min_suma_casillas(n,m,a):\n",
        "\n",
        "  # Tabla (cúbica) de mínimos asociada a min_coste.\n",
        "  tabla_mins = [[[float(\"inf\") for _ in range(3)] for _ in range(m)] for _ in range(n)]\n",
        "\n",
        "  # Inicializaciones (casos base)\n",
        "  tabla_mins[0][0][0] = a[0][0]\n",
        "  for i in range(1,n):\n",
        "    tabla_mins[i][0][0] = tabla_mins[i-1][0][0] + a[i][0]\n",
        "  for j in range(1,m):\n",
        "    tabla_mins[0][j][0] = tabla_mins[0][j-1][0] + a[0][j]\n",
        "\n",
        "  # Construcción del resto de la tabla de mínimos.\n",
        "  for i in range(1,n):\n",
        "    for j in range(1,m):\n",
        "      minimum = float(\"inf\") # k = 0\n",
        "      for k in range(3):\n",
        "        minimum = min(minimum, tabla_mins[i-1][j][k], tabla_mins[i][j-1][k])\n",
        "      tabla_mins[i][j][0] = minimum + a[i][j]\n",
        "\n",
        "      if j - 2 >= 0:\n",
        "        # k = 1\n",
        "        tabla_mins[i][j][1] = tabla_mins[i-1][j-2][0] + a[i][j]\n",
        "\n",
        "        # k = 2\n",
        "        tabla_mins[i][j][2] = tabla_mins[i-1][j-2][1] + a[i][j]\n",
        "\n",
        "  return min(tabla_mins[n-1][m-1][0], tabla_mins[n-1][m-1][1], tabla_mins[n-1][m-1][2])"
      ]
    },
    {
      "cell_type": "code",
      "source": [
        "min_suma_casillas(2,3,[[1,2,3],[4,5,6]])"
      ],
      "metadata": {
        "colab": {
          "base_uri": "https://localhost:8080/"
        },
        "id": "ETd9hMZPOnc_",
        "outputId": "ba9a5363-4249-4dd7-b805-9834d3850687"
      },
      "execution_count": null,
      "outputs": [
        {
          "output_type": "execute_result",
          "data": {
            "text/plain": [
              "7"
            ]
          },
          "metadata": {},
          "execution_count": 6
        }
      ]
    },
    {
      "cell_type": "code",
      "source": [
        "min_suma_casillas(3,2,[[1,4],[2,5],[3,6]])"
      ],
      "metadata": {
        "colab": {
          "base_uri": "https://localhost:8080/"
        },
        "id": "3aO6Jb59QWzX",
        "outputId": "888b57e4-3034-4407-c29d-b204ce3d17ad"
      },
      "execution_count": null,
      "outputs": [
        {
          "output_type": "execute_result",
          "data": {
            "text/plain": [
              "12"
            ]
          },
          "metadata": {},
          "execution_count": 3
        }
      ]
    },
    {
      "cell_type": "code",
      "source": [
        "min_suma_casillas(3,5,[[1]*5]*3)"
      ],
      "metadata": {
        "colab": {
          "base_uri": "https://localhost:8080/"
        },
        "id": "fPScmg79ReoG",
        "outputId": "07157ad8-98a4-49f4-e2e9-84d935b340d3"
      },
      "execution_count": null,
      "outputs": [
        {
          "output_type": "execute_result",
          "data": {
            "text/plain": [
              "3"
            ]
          },
          "metadata": {},
          "execution_count": 4
        }
      ]
    },
    {
      "cell_type": "code",
      "source": [
        "min_suma_casillas(4,7,[[1]*7]*4)"
      ],
      "metadata": {
        "colab": {
          "base_uri": "https://localhost:8080/"
        },
        "id": "eSHnXH7CRga9",
        "outputId": "83f0cb0f-201e-4906-ef2c-bf5f3ce2b8e4"
      },
      "execution_count": null,
      "outputs": [
        {
          "output_type": "execute_result",
          "data": {
            "text/plain": [
              "6"
            ]
          },
          "metadata": {},
          "execution_count": 5
        }
      ]
    },
    {
      "cell_type": "code",
      "source": [
        "min_suma_casillas(3,5,[[-1]*5]*3)"
      ],
      "metadata": {
        "colab": {
          "base_uri": "https://localhost:8080/"
        },
        "id": "KJ7rziXcRiOc",
        "outputId": "b86c0c80-620f-4d04-fcfb-8d3ca8a3b91a"
      },
      "execution_count": null,
      "outputs": [
        {
          "output_type": "execute_result",
          "data": {
            "text/plain": [
              "-7"
            ]
          },
          "metadata": {},
          "execution_count": 6
        }
      ]
    },
    {
      "cell_type": "code",
      "source": [
        "min_suma_casillas(4,7,[[-1]*7]*4)"
      ],
      "metadata": {
        "colab": {
          "base_uri": "https://localhost:8080/"
        },
        "id": "3lH15jYBRkLY",
        "outputId": "4ea5ed50-5be9-47eb-c79d-669058dcdf57"
      },
      "execution_count": null,
      "outputs": [
        {
          "output_type": "execute_result",
          "data": {
            "text/plain": [
              "-10"
            ]
          },
          "metadata": {},
          "execution_count": 7
        }
      ]
    },
    {
      "cell_type": "code",
      "source": [
        "min_suma_casillas(1000, 1000, [[(i+1)**2*(j+1) for i in range(1001)] for j in range(1001)])"
      ],
      "metadata": {
        "colab": {
          "base_uri": "https://localhost:8080/"
        },
        "id": "agSvZuvGRmlh",
        "outputId": "e69d138b-33c4-4d82-a378-bec45b75c9b2"
      },
      "execution_count": null,
      "outputs": [
        {
          "output_type": "execute_result",
          "data": {
            "text/plain": [
              "180260880000"
            ]
          },
          "metadata": {},
          "execution_count": 8
        }
      ]
    }
  ]
}