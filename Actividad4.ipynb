{
  "nbformat": 4,
  "nbformat_minor": 0,
  "metadata": {
    "colab": {
      "provenance": [],
      "include_colab_link": true
    },
    "kernelspec": {
      "name": "python3",
      "display_name": "Python 3"
    },
    "language_info": {
      "name": "python"
    }
  },
  "cells": [
    {
      "cell_type": "markdown",
      "metadata": {
        "id": "view-in-github",
        "colab_type": "text"
      },
      "source": [
        "<a href=\"https://colab.research.google.com/github/pabgarcialopez/ACOM/blob/main/Actividad4.ipynb\" target=\"_parent\"><img src=\"https://colab.research.google.com/assets/colab-badge.svg\" alt=\"Open In Colab\"/></a>"
      ]
    },
    {
      "cell_type": "markdown",
      "source": [
        "Implementar la función pollard_pm1(n, B) que toma un entero 𝑛 ≥ 2 que es producto de dos primos 𝑝,𝑞 ≥ 2 distintos tales que 𝑝−1 es 𝐵-suave y 𝑞−1 no es 𝐵-suave y devuelve uno de sus dos factores primos, obtenido con el método 𝑝−1 de Pollard. Los números aleatorios necesarios para el método deben generarse con la función randint de la librería random (aunque en realidad estos números solo sean \"pseudoaleatorios\")."
      ],
      "metadata": {
        "id": "ml39MI08w-qj"
      }
    },
    {
      "cell_type": "code",
      "source": [
        "\"\"\"\n",
        "- Pablo García López\n",
        "- Alba Bautista Núñez\n",
        "- Pablo Navarro Cebrián\n",
        "\n",
        "\"\"\"\n",
        "\n",
        "from random import randint\n",
        "from math import gcd\n",
        "\n",
        "# Calcula ceil(log(n, base=p))\n",
        "def log(n, p):\n",
        "  # Búsqueda exponencial para encontrar un rango adecuado\n",
        "  low, high = 0, 1\n",
        "  while p ** high < n:\n",
        "      low = high\n",
        "      high *= 2  # Incrementa exponencialmente el valor de high\n",
        "\n",
        "  # Búsqueda binaria dentro del rango [low, high]\n",
        "  while high - low > 1:\n",
        "      mid = (low + high) // 2\n",
        "      if p ** mid < n:\n",
        "          low = mid\n",
        "      else:\n",
        "          high = mid\n",
        "\n",
        "  return high\n",
        "\n",
        "def criba_eratostenes(n):\n",
        "  # Crear una lista de valores booleanos, inicialmente todos en True\n",
        "  # True significa que el número correspondiente es primo\n",
        "  primos = [True] * (n + 1)\n",
        "  p = 2  # El primer número primo\n",
        "\n",
        "  while (p * p <= n):\n",
        "    # Si primos[p] no ha sido marcado como False, entonces es un primo\n",
        "    if primos[p]:\n",
        "      # Marcar como False todos los múltiplos de p\n",
        "      for i in range(p * p, n + 1, p):\n",
        "        primos[i] = False\n",
        "    p += 1\n",
        "\n",
        "  # Devolver todos los números que aún son True, es decir, los primos\n",
        "  return [p for p in range(2, n + 1) if primos[p]]\n",
        "\n",
        "\n",
        "def calculate_a_beta_mod_n(a, n, B):\n",
        "  # Creamos la lista de los primos necesarios para beta\n",
        "  primes = criba_eratostenes(B)\n",
        "\n",
        "  # Para cada uno elevamos a log(n, p) veces\n",
        "  for p in primes:\n",
        "    exp = log(n, p)\n",
        "    for _ in range(exp):\n",
        "      a = pow(a, p, n)\n",
        "\n",
        "  return a\n",
        "\n",
        "# Pollard's p-1 method\n",
        "def pollard_pm1(n, B):\n",
        "\n",
        "  while True:\n",
        "    a = randint(2, n - 1)  # Nos aseguramos que a no es 1\n",
        "\n",
        "    x = gcd(a, n)\n",
        "    if x != 1:\n",
        "      return x  # Encontramos un factor no trivial\n",
        "\n",
        "    # Calculamos a ^ beta mod n\n",
        "    a_beta_mod_n = calculate_a_beta_mod_n(a, n, B)\n",
        "\n",
        "    y = gcd(a_beta_mod_n - 1, n)\n",
        "    if 1 < y < n:\n",
        "      return y  # Encontramos un factor no trivial"
      ],
      "metadata": {
        "id": "lOglqtNWnM9A"
      },
      "execution_count": null,
      "outputs": []
    },
    {
      "cell_type": "code",
      "source": [
        "def test_examples():\n",
        "    examples = [\n",
        "        (11 * 23, 5),\n",
        "        (19 * 29, 3),\n",
        "        (13 * 31, 3),\n",
        "        (17 * 47, 2),\n",
        "        (37 * 61, 3),\n",
        "        (43 * 71, 7),\n",
        "        (53 * 89, 13),\n",
        "        (67 * 103, 11),\n",
        "        (73 * 109, 3),\n",
        "        (83 * 131, 41)\n",
        "    ]\n",
        "\n",
        "    for n, B in examples:\n",
        "        factor = pollard_pm1(n, B)\n",
        "        print(f\"n = {n}, B = {B}, Found factor: {factor}\")\n",
        "\n",
        "# Run the test\n",
        "test_examples()"
      ],
      "metadata": {
        "colab": {
          "base_uri": "https://localhost:8080/"
        },
        "id": "lLLvQAclxXCR",
        "outputId": "292c8d01-20d8-4baa-a371-bc97addbf2ea"
      },
      "execution_count": null,
      "outputs": [
        {
          "output_type": "stream",
          "name": "stdout",
          "text": [
            "n = 253, B = 5, Found factor: 11\n",
            "n = 551, B = 3, Found factor: 29\n",
            "n = 403, B = 3, Found factor: 13\n",
            "n = 799, B = 2, Found factor: 17\n",
            "n = 2257, B = 3, Found factor: 37\n",
            "n = 3053, B = 7, Found factor: 71\n",
            "n = 4717, B = 13, Found factor: 53\n",
            "n = 6901, B = 11, Found factor: 67\n",
            "n = 7957, B = 3, Found factor: 73\n",
            "n = 10873, B = 41, Found factor: 83\n"
          ]
        }
      ]
    },
    {
      "cell_type": "code",
      "source": [
        "assert pollard_pm1(6762691917284635893988303,100) == 263381007359\n",
        "assert pollard_pm1(119495316416051485815407352901774402921283,1000) == 45193190000498511563\n",
        "assert pollard_pm1(58771624767109592190294695436237320281954733562633238951,10000) == 455299501714901028162586319"
      ],
      "metadata": {
        "id": "VzPniZ26RtTF"
      },
      "execution_count": null,
      "outputs": []
    },
    {
      "cell_type": "code",
      "source": [
        "assert pollard_pm1(266941026756980432674273004285227481087654764302423743652775141424617302734658657044184670961906473380670375458124002139355389903179856802994870173312715601752745436095944859694011281380544008461966716092656817602170627934379,1000000) == 369533287075647816702693047063862986159754020633236293082394185958849017640739268469321177775535208522441080367"
      ],
      "metadata": {
        "id": "wdZtLy1cd9H8"
      },
      "execution_count": null,
      "outputs": []
    },
    {
      "cell_type": "code",
      "source": [
        "assert pollard_pm1(8015110843689733987734493314126305093304900427644362111427136747967674950102502227401067508400666253684402757742551821894809831742615784192918469456560690085286199910126971564784243019741380555941733042571384312328652773515182854067261862538680213978368174296772106253247809802194498297934955888000983604718178338431159811628901253189704085615502336825120630199737136386667975473370270254901099100474927139919509948252709580689468366977236252238872840439164497603293917510631536134556475105354896902911935764652153360729834323397346255158826324977097812765382378557607077261662089097246276601527470070388078314698083342531125763586195801205695074271301766840569856852751612504601753988984656300401973433861641028853770900162658263178765900267910765383841534079073198847564915836063133010526813527,10) == 13885550287034710482347346234112843496676221066210616005638226249657772142834267771644148748649145169240300323456018735443263351062948655787008053327422182066301583673261362465254770198866174211434111173759521621599975568261225585549332764428604035619170302808205554524805757553570970362942275989661974285035473620804219839152936210064919493219283478199807189506337240821828577184748667673908347"
      ],
      "metadata": {
        "id": "85Pun1kzFQzr"
      },
      "execution_count": null,
      "outputs": []
    }
  ]
}