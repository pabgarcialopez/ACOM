{
  "nbformat": 4,
  "nbformat_minor": 0,
  "metadata": {
    "colab": {
      "provenance": [],
      "include_colab_link": true
    },
    "kernelspec": {
      "name": "python3",
      "display_name": "Python 3"
    },
    "language_info": {
      "name": "python"
    }
  },
  "cells": [
    {
      "cell_type": "markdown",
      "metadata": {
        "id": "view-in-github",
        "colab_type": "text"
      },
      "source": [
        "<a href=\"https://colab.research.google.com/github/pabgarcialopez/ACOM/blob/main/actividad1.ipynb\" target=\"_parent\"><img src=\"https://colab.research.google.com/assets/colab-badge.svg\" alt=\"Open In Colab\"/></a>"
      ]
    },
    {
      "cell_type": "markdown",
      "source": [
        "# Actividad evaluable 1\n",
        "- Alba Bautista Núñez\n",
        "- Pablo Navarro Cebrián\n",
        "- Pablo García López\n",
        "\n",
        "---\n",
        "\n",
        "Implementar las funciones **`tiene_sol_z(a)`** y **`tiene_sol_q(a)`** que toman $a ∈ ℤ$ y determinan (devuelven un booleano) si la ecuación:\n",
        "\n",
        "\n",
        "$$a = 9b^3 − 225b^2 + 2024b − 5555$$\n",
        "\n",
        "tiene solución entera o racional, respectivamente.\n",
        "\n",
        " ---"
      ],
      "metadata": {
        "id": "Qwwdr9aIQIz8"
      }
    },
    {
      "cell_type": "markdown",
      "source": [
        "Este problema es equivalente a conocer si la función\n",
        "\n",
        "$$f(b) = 9b^3 − 225b^2 + 2024b − (5555 + a)$$\n",
        "\n",
        "tiene raíces enteras o racionales. Analicemos con qué polinomio $f$ estamos trabajando:\n",
        "\n",
        "<!-- Trataremos de hallar las raíces a través del Teorema de Bolzano: hallando  dos valores α < β tales que $sgn(f(α)) \\neq sgn(f(β))$ ($sgn$ denota la función signo) podremos asegurar la existencia de un cierto $c$ que cumpla $α < c < β$ y $f(c) = 0$. -->\n",
        "\n",
        "Al ser $f$ un polinomio cúbico, por el Teorema Fundamental del Álgebra poseerá a lo sumo 3 raíces distintas.\n",
        "\n",
        "Por otro lado, tenemos que $f'(b) = 27b^2 - 450b + 2024$ es la derivada de $f$ para cualquier valor $a$, y observamos que el discriminante de la ecuación\n",
        "\n",
        "$$27b^2 - 450b + 2024 = 0$$\n",
        "\n",
        "es\n",
        "\n",
        "$$450^2 - 4 * 27 * 2024 = - 16092 < 0,$$\n",
        "\n",
        "por lo que $f'$ no tiene ninguna raíz real.\n",
        "\n",
        "Este hecho, junto a que $f$ es continua y $f'(0) = 2024 > 0$, implica que $f'(b) > 0 ∀b ∈ ℝ$, es decir, $f$ es una función estrictamente creciente. Esto a su vez significa que de tener $f$ alguna raíz real, esta es única.\n",
        "\n",
        "Por último,\n",
        "\n",
        "$$\\lim_{b \\to -\\infty} f(b) = -\\infty $$\n",
        "\n",
        "y\n",
        "\n",
        "$$\\lim_{b \\to \\infty} f(b) = \\infty. $$\n",
        "\n",
        "Por ello y puesto que $f$ es continua y estrictamente creciente se tiene que existen $α, β ∈ ℝ$ con $α < β$ cumpliendo $f(α) < 0$ y $f(β) > 0$.\n",
        "\n",
        "Por tanto, por el Teorema de Bolzano, $f$ tiene al menos una raíz real y por lo mencionado anteriormente, posee como mucho una, lo que nos lleva a concluir que existe una única solución real de la ecuación inicial.\n",
        "\n",
        "Tras haber analizado esto, implementaremos mediante el método de la bisección ('divide y vencerás') las funciones pedidas, haciendo uso también de que si la ecuación tiene solución racional, esta debe ser de la forma $\\frac{p}{q}$ donde $q$ es un divisor del coeficiente que acompaña a la variable de mayor grado, en nuestro caso, $9$."
      ],
      "metadata": {
        "id": "4lJdpKIvRxaf"
      }
    },
    {
      "cell_type": "code",
      "source": [
        "def f(b, a):\n",
        "  return 9 * b**3 - 225 * b**2 + 2024 * b - (5555 + a)"
      ],
      "metadata": {
        "id": "mlKmuJouWhE5"
      },
      "execution_count": null,
      "outputs": []
    },
    {
      "cell_type": "code",
      "source": [
        "def encontrar_intervalo_unitario(a, b1, b2):\n",
        "  if b2 - b1 <= 1:\n",
        "    print(\"Intervalo unitario: [\" + str(b1) + \", \" + str(b2) + \"]\")\n",
        "    return b1, b2\n",
        "  else:\n",
        "    b3 = (b1 + b2) // 2\n",
        "    fb3 = f(b3, a)\n",
        "    if fb3 == 0:\n",
        "      return b3, b3\n",
        "    elif fb3 < 0:\n",
        "      return encontrar_intervalo_unitario(a, b3, b2)\n",
        "    else:\n",
        "      return encontrar_intervalo_unitario(a, b1, b3)"
      ],
      "metadata": {
        "id": "XO3pUhNUXioX"
      },
      "execution_count": null,
      "outputs": []
    },
    {
      "cell_type": "code",
      "source": [
        " def encontrar_intervalo(a):\n",
        "  \"\"\"\n",
        "    Dado el parámetro a, halla un intervalo que contenga a la raíz real de f.\n",
        "  \"\"\"\n",
        "\n",
        "  if a == -5555:\n",
        "    b1, b2 = 0, 0\n",
        "  elif a < -5555:\n",
        "    b2 = 0\n",
        "    b1 = -1\n",
        "    while f(b1, a) > 0:\n",
        "      b2 = b1\n",
        "      b1 *= 10\n",
        "  else:\n",
        "    b1 = 0\n",
        "    b2 = 1\n",
        "    while f(b2, a) < 0:\n",
        "      b1 = b2\n",
        "      b2 *= 10\n",
        "\n",
        "  print(\"Intervalo inicial: [\" + str(b1) + \", \" + str(b2) + \"]\")\n",
        "\n",
        "  # Devolvemos un intervalo de longitud 1 que lo contenga\n",
        "  return encontrar_intervalo_unitario(a, b1, b2)"
      ],
      "metadata": {
        "id": "vxdAd7ndWYFj"
      },
      "execution_count": null,
      "outputs": []
    },
    {
      "cell_type": "code",
      "source": [
        "def tiene_sol_z(a):\n",
        "  b1, b2 = encontrar_intervalo(a)\n",
        "  if b1 == b2:\n",
        "    print(\"Raíz entera encontrada: \", b1)\n",
        "    return True\n",
        "  else:\n",
        "    if f(b1, a) == 0:\n",
        "        print(\"Raíz entera encontrada: \", b1)\n",
        "        return True\n",
        "\n",
        "    if f(b2, a) == 0:\n",
        "      print(\"Raíz entera encontrada: \", b2)\n",
        "      return True\n",
        "\n",
        "    return False"
      ],
      "metadata": {
        "id": "nCCv1gKwROkB"
      },
      "execution_count": null,
      "outputs": []
    },
    {
      "cell_type": "code",
      "source": [
        "# Para evitar falta de precisión por decimales.\n",
        "from fractions import Fraction\n",
        "\n",
        "def tiene_sol_q(a):\n",
        "  b1, b2 = encontrar_intervalo(a)\n",
        "  # Comprobamos si alguno de los racionales en el\n",
        "  # intervalo [b1, b2] es solución. Iteramos sobre todos\n",
        "  # los posibles divisores de 9 en dicho intervalo.\n",
        "  while b1 <= b2:\n",
        "    if f(b1,a) == 0:\n",
        "        print(\"Raíz racional encontrada: \", b1)\n",
        "        return True  # Si encontramos una solución, la devolvemos\n",
        "\n",
        "    # Avanzamos hasta el próximo candidato\n",
        "    b1 += Fraction(1,9)\n",
        "\n",
        "  return False  # No se encontró ninguna solución"
      ],
      "metadata": {
        "id": "kK4BLFTXWRnC"
      },
      "execution_count": null,
      "outputs": []
    },
    {
      "cell_type": "code",
      "source": [
        "tiene_sol_z(65)"
      ],
      "metadata": {
        "colab": {
          "base_uri": "https://localhost:8080/"
        },
        "id": "N_4r8G4rWtJn",
        "outputId": "5771c2c8-a60f-4dd0-b36c-cdd709fa8388"
      },
      "execution_count": null,
      "outputs": [
        {
          "output_type": "stream",
          "name": "stdout",
          "text": [
            "Intervalo inicial: [1, 10]\n",
            "Raíz entera encontrada:  5\n"
          ]
        },
        {
          "output_type": "execute_result",
          "data": {
            "text/plain": [
              "True"
            ]
          },
          "metadata": {},
          "execution_count": 22
        }
      ]
    },
    {
      "cell_type": "code",
      "source": [
        "tiene_sol_q(8768170746)"
      ],
      "metadata": {
        "id": "O3ncT0KyZunD",
        "colab": {
          "base_uri": "https://localhost:8080/"
        },
        "outputId": "fb964147-9a8a-401d-d052-6f55b7c45149"
      },
      "execution_count": null,
      "outputs": [
        {
          "output_type": "stream",
          "name": "stdout",
          "text": [
            "Intervalo inicial: [100, 1000]\n",
            "Intervalo unitario: [999, 1000]\n"
          ]
        },
        {
          "output_type": "execute_result",
          "data": {
            "text/plain": [
              "False"
            ]
          },
          "metadata": {},
          "execution_count": 23
        }
      ]
    },
    {
      "cell_type": "code",
      "source": [
        "tiene_sol_z(0)"
      ],
      "metadata": {
        "colab": {
          "base_uri": "https://localhost:8080/"
        },
        "id": "8S_HmKjX1gho",
        "outputId": "36cba022-e943-4856-d56c-dfe4859f6a50"
      },
      "execution_count": null,
      "outputs": [
        {
          "output_type": "stream",
          "name": "stdout",
          "text": [
            "Intervalo inicial: [1, 10]\n",
            "Intervalo unitario: [4, 5]\n"
          ]
        },
        {
          "output_type": "execute_result",
          "data": {
            "text/plain": [
              "False"
            ]
          },
          "metadata": {},
          "execution_count": 27
        }
      ]
    },
    {
      "cell_type": "code",
      "source": [
        "tiene_sol_q(0)"
      ],
      "metadata": {
        "colab": {
          "base_uri": "https://localhost:8080/"
        },
        "id": "wSYFj8Nu13AG",
        "outputId": "008a27f7-5328-40da-835d-0d2b74f9ca85"
      },
      "execution_count": null,
      "outputs": [
        {
          "output_type": "stream",
          "name": "stdout",
          "text": [
            "Intervalo inicial: [1, 10]\n",
            "Intervalo unitario: [4, 5]\n"
          ]
        },
        {
          "output_type": "execute_result",
          "data": {
            "text/plain": [
              "False"
            ]
          },
          "metadata": {},
          "execution_count": 28
        }
      ]
    }
  ]
}